{
  "cells": [
    {
      "cell_type": "markdown",
      "metadata": {
        "id": "7AURHrKDB8RV"
      },
      "source": [
        "Note that only the first and third terms have non-zero coefficients, so it is not necessary to calculate the determinants of all minors!\n",
        "\n",
        "---\n",
        "\n",
        "## Exercises for Students\n",
        "\n",
        "Calculate the determinants of the following matrices:\n",
        "\n",
        "$$\n",
        "\\mathbf{A} =\n",
        "\\begin{pmatrix}\n",
        "2 & 3 & 1 \\\\\n",
        "1 & 4 & 0 \\\\\n",
        "3 & 2 & 1\n",
        "\\end{pmatrix}\n",
        ",\\qquad\n",
        "\\mathbf{B} =\n",
        "\\begin{pmatrix}\n",
        "2 & 3 & 1 \\\\\n",
        "1 & 4 & 0 \\\\\n",
        "3 & 2 & 0  \\\\\n",
        "\\end{pmatrix}\n",
        ",\\qquad\n",
        "\\mathbf{C} =\n",
        "\\begin{pmatrix}\n",
        "2 & 3 & 1 & 4 \\\\\n",
        "1 & 0 & 0 & 6 \\\\\n",
        "3 & 2 & 1 & 5 \\\\\n",
        "2 & 1 & 4 & 0\n",
        "\\end{pmatrix}\n",
        ",\\qquad\n",
        "\\mathbf{D} =\n",
        "\\begin{pmatrix}\n",
        "2 & 3 & 1 & 4 & 5 \\\\\n",
        "1 & 4 & 0 & 0 & 7 \\\\\n",
        "3 & 0 & 0 & 0 & 0 \\\\\n",
        "2 & 1 & 4 & 3 & 2 \\\\\n",
        "1 & 2 & 3 & 4 & 5\n",
        "\\end{pmatrix}\n",
        "$$"
      ]
    },
    {
      "cell_type": "code",
      "source": [
        "import sympy as sp\n",
        "\n",
        "C = sp.Matrix([[2, 3, 1, 4, 5], [1, 4, 0, 0, 7], [3, 0, 0, 0, 0], [1, 2, 3, 4, 5], [0, 1, 2, 3, 4]])\n",
        "\n",
        "print(\"Shape of matrix C:\", C.shape)\n",
        "\n",
        "M11 = C[1:, [1, 2, 3, 4]]\n",
        "M12 = C[1:, [0, 2, 3, 4]]\n",
        "M13 = C[1:, [0, 1, 3, 4]]\n",
        "M14 = C[1:, [0, 1, 2, 4]]\n",
        "M15 = C[1:, [0, 1, 2, 3]]\n",
        "\n",
        "print(\"Shape of M11:\", M11.shape)\n",
        "print(\"Shape of M12:\", M12.shape)\n",
        "print(\"Shape of M13:\", M13.shape)\n",
        "print(\"Shape of M14:\", M14.shape)\n",
        "print(\"Shape of M15:\", M15.shape)\n",
        "\n",
        "d = (2 * M11.det() - 3 * M12.det() + 1 * M13.det() - 4 * M14.det() + 5 * M15.det())\n",
        "\n",
        "print(\"Determinant calculated using Laplace expansion:\", d)\n",
        "print(\"Verification with sympy det:\", C.det())\n",
        "print(\"Do the results match:\", d == C.det())\n"
      ],
      "metadata": {
        "colab": {
          "base_uri": "https://localhost:8080/"
        },
        "id": "q4yoWNN-CvSz",
        "outputId": "29dfb441-5c69-4d49-8ac3-335b228ad263"
      },
      "execution_count": 1,
      "outputs": [
        {
          "output_type": "stream",
          "name": "stdout",
          "text": [
            "Shape of matrix C: (5, 5)\n",
            "Shape of M11: (4, 4)\n",
            "Shape of M12: (4, 4)\n",
            "Shape of M13: (4, 4)\n",
            "Shape of M14: (4, 4)\n",
            "Shape of M15: (4, 4)\n",
            "Determinant calculated using Laplace expansion: 129\n",
            "Verification with sympy det: 129\n",
            "Do the results match: True\n"
          ]
        }
      ]
    },
    {
      "cell_type": "markdown",
      "source": [
        "# 2x3 and 3x3"
      ],
      "metadata": {
        "id": "0ZK8AYPnRHZS"
      }
    },
    {
      "cell_type": "markdown",
      "source": [
        "Determinants of 2x2 and 3x3 matrices"
      ],
      "metadata": {
        "id": "z7TzZxGZaMTr"
      }
    },
    {
      "cell_type": "code",
      "source": [
        "import sympy as sp\n",
        "\n",
        "A = sp.Matrix([[-1, 2], [3, 0]])\n",
        "print(\"Matrix A:\")\n",
        "print(A)\n",
        "\n",
        "a, b, c, d = A[0, 0], A[0, 1], A[1, 0], A[1, 1]\n",
        "determinant_manual = a * d - b * c\n",
        "\n",
        "determinant_sympy = A.det()\n",
        "\n",
        "print(\"manual:\", determinant_manual)\n",
        "print(\"SymPy:\", determinant_sympy)\n"
      ],
      "metadata": {
        "colab": {
          "base_uri": "https://localhost:8080/"
        },
        "id": "uQegP_TqRYHN",
        "outputId": "3e88021d-040c-4625-a875-81c304b5813f"
      },
      "execution_count": 2,
      "outputs": [
        {
          "output_type": "stream",
          "name": "stdout",
          "text": [
            "Matrix A:\n",
            "Matrix([[-1, 2], [3, 0]])\n",
            "manual: -6\n",
            "SymPy: -6\n"
          ]
        }
      ]
    },
    {
      "cell_type": "code",
      "source": [
        "import sympy as sp\n",
        "\n",
        "F = sp.Matrix([[2, -3, 1], [1, 4, -2], [1, 5, 3]])\n",
        "print(\"Matrix F:\")\n",
        "print(F)\n",
        "\n",
        "a, b, c = F[0, 0], F[0, 1], F[0, 2]\n",
        "d, e, f = F[1, 0], F[1, 1], F[1, 2]\n",
        "g, h, i = F[2, 0], F[2, 1], F[2, 2]\n",
        "\n",
        "determinant_manual = a * (e * i - f * h) - b * (d * i - f * g) + c * (d * h - e * g)\n",
        "\n",
        "determinant_sympy = F.det()\n",
        "\n",
        "print(\"Manual:\", determinant_manual)\n",
        "print(\"Sympy:\", determinant_sympy)\n",
        "\n"
      ],
      "metadata": {
        "colab": {
          "base_uri": "https://localhost:8080/"
        },
        "id": "mr5_qyRQaQQy",
        "outputId": "e60c24b6-445d-446e-cd7f-7e50b0d12ead"
      },
      "execution_count": 3,
      "outputs": [
        {
          "output_type": "stream",
          "name": "stdout",
          "text": [
            "Matrix F:\n",
            "Matrix([[2, -3, 1], [1, 4, -2], [1, 5, 3]])\n",
            "Manual: 60\n",
            "Sympy: 60\n"
          ]
        }
      ]
    },
    {
      "cell_type": "markdown",
      "source": [
        "# Matrix Inversion\n"
      ],
      "metadata": {
        "id": "WJxJQKPBbEzp"
      }
    },
    {
      "cell_type": "markdown",
      "source": [
        "inverse matrix"
      ],
      "metadata": {
        "id": "iRXZAim5cxwq"
      }
    },
    {
      "cell_type": "code",
      "source": [
        "import sympy as sp\n",
        "\n",
        "matrix = sp.Matrix([[2, 0, 1], [0, 1, 0], [1, 2, 0]])\n",
        "\n",
        "inverse_matrix = matrix.inv()\n",
        "\n",
        "inverse_matrix_l = inverse_matrix.tolist()\n",
        "\n",
        "print(\"The inverse of the matrix:\")\n",
        "print(inverse_matrix_l)\n"
      ],
      "metadata": {
        "colab": {
          "base_uri": "https://localhost:8080/"
        },
        "id": "27I90TKFbQpr",
        "outputId": "69263838-a07d-4541-ace6-1c300ea0a344"
      },
      "execution_count": 4,
      "outputs": [
        {
          "output_type": "stream",
          "name": "stdout",
          "text": [
            "The inverse of the matrix:\n",
            "[[0, -2, 1], [0, 1, 0], [1, 4, -2]]\n"
          ]
        }
      ]
    },
    {
      "cell_type": "markdown",
      "source": [
        "Using the det() command, determine the rank of the matrix below\n"
      ],
      "metadata": {
        "id": "YWynMKoGc0gh"
      }
    },
    {
      "cell_type": "code",
      "source": [
        "import sympy as sp\n",
        "\n",
        "A = sp.Matrix([[4, -3, 7], [-1, 6, 3], [2, 9, 1]])\n",
        "rank_A = A.rank()\n",
        "print(\"The rank of the matrix A is:\", rank_A)\n",
        "\n"
      ],
      "metadata": {
        "colab": {
          "base_uri": "https://localhost:8080/"
        },
        "id": "btsmTbu2dMbi",
        "outputId": "e230801f-139a-434b-9137-401b77e1e81f"
      },
      "execution_count": 5,
      "outputs": [
        {
          "output_type": "stream",
          "name": "stdout",
          "text": [
            "The rank of the matrix A is: 3\n"
          ]
        }
      ]
    },
    {
      "cell_type": "markdown",
      "source": [
        "#Matrix Inversion using Gauss elimination method\n"
      ],
      "metadata": {
        "id": "Yl2yRpvId1rt"
      }
    },
    {
      "cell_type": "markdown",
      "source": [
        "Find the inverse matrices using the Gauss method:\n",
        "\n"
      ],
      "metadata": {
        "id": "OAZYDNgOd4uh"
      }
    },
    {
      "cell_type": "code",
      "source": [
        "from sympy import Matrix, Rational, latex\n",
        "from IPython.display import display, Markdown, Math\n",
        "\n",
        "class InvertibleMatrix:\n",
        "    def __init__(self, matrix):\n",
        "        self.matrix = Matrix(matrix).applyfunc(Rational)\n",
        "        if self.matrix.rows != self.matrix.cols:\n",
        "            raise ValueError(\"The matrix must be square.\")\n",
        "        identity = Matrix.eye(self.matrix.rows).applyfunc(Rational)\n",
        "        self.aug_matrix = self.matrix.row_join(identity)\n",
        "        display(Markdown(\"**Initial Matrix (Starting matrix):**\"))\n",
        "        self.display_matrix()\n",
        "\n",
        "    def display_matrix(self):\n",
        "        left_matrix = self.aug_matrix[:, :self.matrix.cols]\n",
        "        right_matrix = self.aug_matrix[:, self.matrix.cols:]\n",
        "        combined_latex = r\"\"\"\n",
        "        \\left[%s\\right]\n",
        "        \\;\\;\\big|\\;\\;\n",
        "        \\left[%s\\right]\n",
        "        \"\"\" % (latex(left_matrix), latex(right_matrix))\n",
        "        display(Math(combined_latex))\n",
        "\n",
        "    def swap_rows_if_needed(self, i):\n",
        "        if self.aug_matrix[i, i] == 0:\n",
        "            for row in range(i + 1, self.matrix.rows):\n",
        "                if self.aug_matrix[row, i] != 0:\n",
        "                    self.aug_matrix.row_swap(i, row)\n",
        "                    display(Markdown(f\"**Swapping rows {i + 1} and {row + 1} to avoid zero pivot:**\"))\n",
        "                    self.display_matrix()\n",
        "                    break\n",
        "            else:\n",
        "                raise ValueError(\"Matrix is singular and cannot be inverted.\")\n",
        "\n",
        "    def perform_operations(self):\n",
        "        n = self.matrix.rows\n",
        "        for i in range(n):\n",
        "            self.swap_rows_if_needed(i)\n",
        "            pivot = self.aug_matrix[i, i]\n",
        "            self.aug_matrix.row_op(i, lambda v, _: v / pivot)\n",
        "            for j in range(n):\n",
        "                if j != i:\n",
        "                    factor = self.aug_matrix[j, i]\n",
        "                    self.aug_matrix.row_op(j, lambda v, k: v - factor * self.aug_matrix[i, k])\n",
        "            display(Markdown(f\"**After row operations to make column {i+1} into pivot form:**\"))\n",
        "            self.display_matrix()\n",
        "\n",
        "    def get_inverse(self):\n",
        "        if self.matrix.det() == 0:\n",
        "            display(Markdown(\"**This matrix is singular and cannot be inverted.**\"))\n",
        "            return None\n",
        "        self.perform_operations()\n",
        "        inverse_matrix = self.aug_matrix[:, self.matrix.cols:]\n",
        "        display(Markdown(\"**Inverse Matrix:**\"))\n",
        "        display(Math(latex(inverse_matrix)))\n",
        "        return inverse_matrix\n",
        "\n",
        "matrices = {\n",
        "    'A': [[1, 2], [3, 4]],\n",
        "    'B': [[1, 2, 3], [4, 5, 1], [2, 3, 2]],\n",
        "    'C': [[0, 0, 1], [0, 1, 0], [1, 0, 0]],\n",
        "}\n",
        "\n",
        "for name, initial_matrix in matrices.items():\n",
        "    display(Markdown(f\"## Finding the inverse of matrix {name}:\"))\n",
        "    m = InvertibleMatrix(initial_matrix)\n",
        "    inverse = m.get_inverse()\n"
      ],
      "metadata": {
        "colab": {
          "base_uri": "https://localhost:8080/",
          "height": 1000
        },
        "id": "qq-IqPI0d7v2",
        "outputId": "b5cb9e63-86c6-4f8e-9f57-f6d7e9d57fe9"
      },
      "execution_count": 3,
      "outputs": [
        {
          "output_type": "display_data",
          "data": {
            "text/plain": [
              "<IPython.core.display.Markdown object>"
            ],
            "text/markdown": "## Finding the inverse of matrix A:"
          },
          "metadata": {}
        },
        {
          "output_type": "display_data",
          "data": {
            "text/plain": [
              "<IPython.core.display.Markdown object>"
            ],
            "text/markdown": "**Initial Matrix (Starting matrix):**"
          },
          "metadata": {}
        },
        {
          "output_type": "display_data",
          "data": {
            "text/plain": [
              "<IPython.core.display.Math object>"
            ],
            "text/latex": "$\\displaystyle \n        \\left[\\left[\\begin{matrix}1 & 2\\\\3 & 4\\end{matrix}\\right]\\right] \n        \\;\\;\\big|\\;\\;\n        \\left[\\left[\\begin{matrix}1 & 0\\\\0 & 1\\end{matrix}\\right]\\right]\n        $"
          },
          "metadata": {}
        },
        {
          "output_type": "display_data",
          "data": {
            "text/plain": [
              "<IPython.core.display.Markdown object>"
            ],
            "text/markdown": "**After row operations to make column 1 into pivot form:**"
          },
          "metadata": {}
        },
        {
          "output_type": "display_data",
          "data": {
            "text/plain": [
              "<IPython.core.display.Math object>"
            ],
            "text/latex": "$\\displaystyle \n        \\left[\\left[\\begin{matrix}1 & 2\\\\0 & -2\\end{matrix}\\right]\\right] \n        \\;\\;\\big|\\;\\;\n        \\left[\\left[\\begin{matrix}1 & 0\\\\-3 & 1\\end{matrix}\\right]\\right]\n        $"
          },
          "metadata": {}
        },
        {
          "output_type": "display_data",
          "data": {
            "text/plain": [
              "<IPython.core.display.Markdown object>"
            ],
            "text/markdown": "**After row operations to make column 2 into pivot form:**"
          },
          "metadata": {}
        },
        {
          "output_type": "display_data",
          "data": {
            "text/plain": [
              "<IPython.core.display.Math object>"
            ],
            "text/latex": "$\\displaystyle \n        \\left[\\left[\\begin{matrix}1 & 0\\\\0 & 1\\end{matrix}\\right]\\right] \n        \\;\\;\\big|\\;\\;\n        \\left[\\left[\\begin{matrix}-2 & 1\\\\\\frac{3}{2} & - \\frac{1}{2}\\end{matrix}\\right]\\right]\n        $"
          },
          "metadata": {}
        },
        {
          "output_type": "display_data",
          "data": {
            "text/plain": [
              "<IPython.core.display.Markdown object>"
            ],
            "text/markdown": "**Inverse Matrix:**"
          },
          "metadata": {}
        },
        {
          "output_type": "display_data",
          "data": {
            "text/plain": [
              "<IPython.core.display.Math object>"
            ],
            "text/latex": "$\\displaystyle \\left[\\begin{matrix}-2 & 1\\\\\\frac{3}{2} & - \\frac{1}{2}\\end{matrix}\\right]$"
          },
          "metadata": {}
        },
        {
          "output_type": "display_data",
          "data": {
            "text/plain": [
              "<IPython.core.display.Markdown object>"
            ],
            "text/markdown": "## Finding the inverse of matrix B:"
          },
          "metadata": {}
        },
        {
          "output_type": "display_data",
          "data": {
            "text/plain": [
              "<IPython.core.display.Markdown object>"
            ],
            "text/markdown": "**Initial Matrix (Starting matrix):**"
          },
          "metadata": {}
        },
        {
          "output_type": "display_data",
          "data": {
            "text/plain": [
              "<IPython.core.display.Math object>"
            ],
            "text/latex": "$\\displaystyle \n        \\left[\\left[\\begin{matrix}1 & 2 & 3\\\\4 & 5 & 1\\\\2 & 3 & 2\\end{matrix}\\right]\\right] \n        \\;\\;\\big|\\;\\;\n        \\left[\\left[\\begin{matrix}1 & 0 & 0\\\\0 & 1 & 0\\\\0 & 0 & 1\\end{matrix}\\right]\\right]\n        $"
          },
          "metadata": {}
        },
        {
          "output_type": "display_data",
          "data": {
            "text/plain": [
              "<IPython.core.display.Markdown object>"
            ],
            "text/markdown": "**After row operations to make column 1 into pivot form:**"
          },
          "metadata": {}
        },
        {
          "output_type": "display_data",
          "data": {
            "text/plain": [
              "<IPython.core.display.Math object>"
            ],
            "text/latex": "$\\displaystyle \n        \\left[\\left[\\begin{matrix}1 & 2 & 3\\\\0 & -3 & -11\\\\0 & -1 & -4\\end{matrix}\\right]\\right] \n        \\;\\;\\big|\\;\\;\n        \\left[\\left[\\begin{matrix}1 & 0 & 0\\\\-4 & 1 & 0\\\\-2 & 0 & 1\\end{matrix}\\right]\\right]\n        $"
          },
          "metadata": {}
        },
        {
          "output_type": "display_data",
          "data": {
            "text/plain": [
              "<IPython.core.display.Markdown object>"
            ],
            "text/markdown": "**After row operations to make column 2 into pivot form:**"
          },
          "metadata": {}
        },
        {
          "output_type": "display_data",
          "data": {
            "text/plain": [
              "<IPython.core.display.Math object>"
            ],
            "text/latex": "$\\displaystyle \n        \\left[\\left[\\begin{matrix}1 & 0 & - \\frac{13}{3}\\\\0 & 1 & \\frac{11}{3}\\\\0 & 0 & - \\frac{1}{3}\\end{matrix}\\right]\\right] \n        \\;\\;\\big|\\;\\;\n        \\left[\\left[\\begin{matrix}- \\frac{5}{3} & \\frac{2}{3} & 0\\\\\\frac{4}{3} & - \\frac{1}{3} & 0\\\\- \\frac{2}{3} & - \\frac{1}{3} & 1\\end{matrix}\\right]\\right]\n        $"
          },
          "metadata": {}
        },
        {
          "output_type": "display_data",
          "data": {
            "text/plain": [
              "<IPython.core.display.Markdown object>"
            ],
            "text/markdown": "**After row operations to make column 3 into pivot form:**"
          },
          "metadata": {}
        },
        {
          "output_type": "display_data",
          "data": {
            "text/plain": [
              "<IPython.core.display.Math object>"
            ],
            "text/latex": "$\\displaystyle \n        \\left[\\left[\\begin{matrix}1 & 0 & 0\\\\0 & 1 & 0\\\\0 & 0 & 1\\end{matrix}\\right]\\right] \n        \\;\\;\\big|\\;\\;\n        \\left[\\left[\\begin{matrix}7 & 5 & -13\\\\-6 & -4 & 11\\\\2 & 1 & -3\\end{matrix}\\right]\\right]\n        $"
          },
          "metadata": {}
        },
        {
          "output_type": "display_data",
          "data": {
            "text/plain": [
              "<IPython.core.display.Markdown object>"
            ],
            "text/markdown": "**Inverse Matrix:**"
          },
          "metadata": {}
        },
        {
          "output_type": "display_data",
          "data": {
            "text/plain": [
              "<IPython.core.display.Math object>"
            ],
            "text/latex": "$\\displaystyle \\left[\\begin{matrix}7 & 5 & -13\\\\-6 & -4 & 11\\\\2 & 1 & -3\\end{matrix}\\right]$"
          },
          "metadata": {}
        },
        {
          "output_type": "display_data",
          "data": {
            "text/plain": [
              "<IPython.core.display.Markdown object>"
            ],
            "text/markdown": "## Finding the inverse of matrix C:"
          },
          "metadata": {}
        },
        {
          "output_type": "display_data",
          "data": {
            "text/plain": [
              "<IPython.core.display.Markdown object>"
            ],
            "text/markdown": "**Initial Matrix (Starting matrix):**"
          },
          "metadata": {}
        },
        {
          "output_type": "display_data",
          "data": {
            "text/plain": [
              "<IPython.core.display.Math object>"
            ],
            "text/latex": "$\\displaystyle \n        \\left[\\left[\\begin{matrix}0 & 0 & 1\\\\0 & 1 & 0\\\\1 & 0 & 0\\end{matrix}\\right]\\right] \n        \\;\\;\\big|\\;\\;\n        \\left[\\left[\\begin{matrix}1 & 0 & 0\\\\0 & 1 & 0\\\\0 & 0 & 1\\end{matrix}\\right]\\right]\n        $"
          },
          "metadata": {}
        },
        {
          "output_type": "display_data",
          "data": {
            "text/plain": [
              "<IPython.core.display.Markdown object>"
            ],
            "text/markdown": "**Swapping rows 1 and 3 to avoid zero pivot:**"
          },
          "metadata": {}
        },
        {
          "output_type": "display_data",
          "data": {
            "text/plain": [
              "<IPython.core.display.Math object>"
            ],
            "text/latex": "$\\displaystyle \n        \\left[\\left[\\begin{matrix}1 & 0 & 0\\\\0 & 1 & 0\\\\0 & 0 & 1\\end{matrix}\\right]\\right] \n        \\;\\;\\big|\\;\\;\n        \\left[\\left[\\begin{matrix}0 & 0 & 1\\\\0 & 1 & 0\\\\1 & 0 & 0\\end{matrix}\\right]\\right]\n        $"
          },
          "metadata": {}
        },
        {
          "output_type": "display_data",
          "data": {
            "text/plain": [
              "<IPython.core.display.Markdown object>"
            ],
            "text/markdown": "**After row operations to make column 1 into pivot form:**"
          },
          "metadata": {}
        },
        {
          "output_type": "display_data",
          "data": {
            "text/plain": [
              "<IPython.core.display.Math object>"
            ],
            "text/latex": "$\\displaystyle \n        \\left[\\left[\\begin{matrix}1 & 0 & 0\\\\0 & 1 & 0\\\\0 & 0 & 1\\end{matrix}\\right]\\right] \n        \\;\\;\\big|\\;\\;\n        \\left[\\left[\\begin{matrix}0 & 0 & 1\\\\0 & 1 & 0\\\\1 & 0 & 0\\end{matrix}\\right]\\right]\n        $"
          },
          "metadata": {}
        },
        {
          "output_type": "display_data",
          "data": {
            "text/plain": [
              "<IPython.core.display.Markdown object>"
            ],
            "text/markdown": "**After row operations to make column 2 into pivot form:**"
          },
          "metadata": {}
        },
        {
          "output_type": "display_data",
          "data": {
            "text/plain": [
              "<IPython.core.display.Math object>"
            ],
            "text/latex": "$\\displaystyle \n        \\left[\\left[\\begin{matrix}1 & 0 & 0\\\\0 & 1 & 0\\\\0 & 0 & 1\\end{matrix}\\right]\\right] \n        \\;\\;\\big|\\;\\;\n        \\left[\\left[\\begin{matrix}0 & 0 & 1\\\\0 & 1 & 0\\\\1 & 0 & 0\\end{matrix}\\right]\\right]\n        $"
          },
          "metadata": {}
        },
        {
          "output_type": "display_data",
          "data": {
            "text/plain": [
              "<IPython.core.display.Markdown object>"
            ],
            "text/markdown": "**After row operations to make column 3 into pivot form:**"
          },
          "metadata": {}
        },
        {
          "output_type": "display_data",
          "data": {
            "text/plain": [
              "<IPython.core.display.Math object>"
            ],
            "text/latex": "$\\displaystyle \n        \\left[\\left[\\begin{matrix}1 & 0 & 0\\\\0 & 1 & 0\\\\0 & 0 & 1\\end{matrix}\\right]\\right] \n        \\;\\;\\big|\\;\\;\n        \\left[\\left[\\begin{matrix}0 & 0 & 1\\\\0 & 1 & 0\\\\1 & 0 & 0\\end{matrix}\\right]\\right]\n        $"
          },
          "metadata": {}
        },
        {
          "output_type": "display_data",
          "data": {
            "text/plain": [
              "<IPython.core.display.Markdown object>"
            ],
            "text/markdown": "**Inverse Matrix:**"
          },
          "metadata": {}
        },
        {
          "output_type": "display_data",
          "data": {
            "text/plain": [
              "<IPython.core.display.Math object>"
            ],
            "text/latex": "$\\displaystyle \\left[\\begin{matrix}0 & 0 & 1\\\\0 & 1 & 0\\\\1 & 0 & 0\\end{matrix}\\right]$"
          },
          "metadata": {}
        }
      ]
    },
    {
      "cell_type": "markdown",
      "source": [
        "# Triangular Matrices and determinant calculation\n"
      ],
      "metadata": {
        "id": "CZAQzSfvJKjw"
      }
    },
    {
      "cell_type": "markdown",
      "source": [
        "Perform row and column operations to reduce the following matrices to an upper triangular form and calculate their determinants by taking the product of the diagonal elements.\n",
        "\n"
      ],
      "metadata": {
        "id": "ptF0og2zJOz-"
      }
    },
    {
      "cell_type": "code",
      "source": [
        "import sympy as sp\n",
        "from IPython.display import display, Markdown\n",
        "\n",
        "class SymbolicMatrix:\n",
        "    def __init__(self, matrix):\n",
        "        self.matrix = sp.Matrix(matrix)\n",
        "        self.operations = []\n",
        "        display(Markdown(\"**Initial Matrix:**\"))\n",
        "        display(self.matrix)\n",
        "\n",
        "    def add_row(self, target_row, source_row, coefficient):\n",
        "        self.matrix.row_op(target_row - 1, lambda v, j: v + coefficient * self.matrix[source_row - 1, j])\n",
        "        operation_str = f\"r{target_row} = r{target_row} + ({coefficient})*r{source_row}\"\n",
        "        self.operations.append(operation_str)\n",
        "        display(Markdown(f\"**Operation:** {operation_str}\"))\n",
        "        display(self.matrix)\n",
        "\n",
        "    def multiply_row(self, row, coefficient):\n",
        "        self.matrix.row_op(row - 1, lambda v, _: coefficient * v)\n",
        "        operation_str = f\"r{row} = {coefficient}*r{row}\"\n",
        "        self.operations.append(operation_str)\n",
        "        display(Markdown(f\"**Operation:** {operation_str}\"))\n",
        "        display(self.matrix)\n",
        "\n",
        "    def swap_rows(self, row1, row2):\n",
        "        self.matrix.row_swap(row1 - 1, row2 - 1)\n",
        "        operation_str = f\"Swap r{row1} <-> r{row2}\"\n",
        "        self.operations.append(operation_str)\n",
        "        display(Markdown(f\"**Operation:** {operation_str}\"))\n",
        "        display(self.matrix)\n",
        "\n",
        "    def get_determinant(self):\n",
        "        diag_elements = [self.matrix[i, i] for i in range(min(self.matrix.rows, self.matrix.cols))]\n",
        "        determinant = sp.prod(diag_elements)\n",
        "        display(Markdown(\"**Upper Triangular Form:**\"))\n",
        "        display(self.matrix)\n",
        "        display(Markdown(f\"**Determinant (product of diagonal elements):** {determinant}\"))\n",
        "        return determinant\n",
        "\n",
        "A = [\n",
        "    [12, -18, 3],\n",
        "    [-4, 7, -5],\n",
        "    [2, 6, 9]\n",
        "]\n",
        "\n",
        "matrix_a = SymbolicMatrix(A)\n",
        "matrix_a.add_row(2, 1, 1/3)\n",
        "matrix_a.add_row(3, 1, -1/6)\n",
        "matrix_a.add_row(3, 2, -5/7)\n",
        "det_a = matrix_a.get_determinant()\n",
        "\n",
        "B = [\n",
        "    [1, 4, 7],\n",
        "    [2, 5, 8],\n",
        "    [3, 6, 9]\n",
        "]\n",
        "\n",
        "matrix_b = SymbolicMatrix(B)\n",
        "matrix_b.add_row(2, 1, -2)\n",
        "matrix_b.add_row(3, 1, -3)\n",
        "matrix_b.add_row(3, 2, 1)\n",
        "det_b = matrix_b.get_determinant()\n"
      ],
      "metadata": {
        "id": "HpwmUod_JRXI",
        "outputId": "09d957d2-1d18-46e6-ac73-383fe86d9154",
        "colab": {
          "base_uri": "https://localhost:8080/",
          "height": 973
        }
      },
      "execution_count": 4,
      "outputs": [
        {
          "output_type": "display_data",
          "data": {
            "text/plain": [
              "<IPython.core.display.Markdown object>"
            ],
            "text/markdown": "**Initial Matrix:**"
          },
          "metadata": {}
        },
        {
          "output_type": "display_data",
          "data": {
            "text/plain": [
              "Matrix([\n",
              "[12, -18,  3],\n",
              "[-4,   7, -5],\n",
              "[ 2,   6,  9]])"
            ],
            "text/latex": "$\\displaystyle \\left[\\begin{matrix}12 & -18 & 3\\\\-4 & 7 & -5\\\\2 & 6 & 9\\end{matrix}\\right]$"
          },
          "metadata": {}
        },
        {
          "output_type": "display_data",
          "data": {
            "text/plain": [
              "<IPython.core.display.Markdown object>"
            ],
            "text/markdown": "**Operation:** r2 = r2 + (0.3333333333333333)*r1"
          },
          "metadata": {}
        },
        {
          "output_type": "display_data",
          "data": {
            "text/plain": [
              "Matrix([\n",
              "[12, -18,    3],\n",
              "[ 0, 1.0, -4.0],\n",
              "[ 2,   6,    9]])"
            ],
            "text/latex": "$\\displaystyle \\left[\\begin{matrix}12 & -18 & 3\\\\0 & 1.0 & -4.0\\\\2 & 6 & 9\\end{matrix}\\right]$"
          },
          "metadata": {}
        },
        {
          "output_type": "display_data",
          "data": {
            "text/plain": [
              "<IPython.core.display.Markdown object>"
            ],
            "text/markdown": "**Operation:** r3 = r3 + (-0.16666666666666666)*r1"
          },
          "metadata": {}
        },
        {
          "output_type": "display_data",
          "data": {
            "text/plain": [
              "Matrix([\n",
              "[12, -18,    3],\n",
              "[ 0, 1.0, -4.0],\n",
              "[ 0, 9.0,  8.5]])"
            ],
            "text/latex": "$\\displaystyle \\left[\\begin{matrix}12 & -18 & 3\\\\0 & 1.0 & -4.0\\\\0 & 9.0 & 8.5\\end{matrix}\\right]$"
          },
          "metadata": {}
        },
        {
          "output_type": "display_data",
          "data": {
            "text/plain": [
              "<IPython.core.display.Markdown object>"
            ],
            "text/markdown": "**Operation:** r3 = r3 + (-0.7142857142857143)*r2"
          },
          "metadata": {}
        },
        {
          "output_type": "display_data",
          "data": {
            "text/plain": [
              "Matrix([\n",
              "[12,              -18,                3],\n",
              "[ 0,              1.0,             -4.0],\n",
              "[ 0, 8.28571428571429, 11.3571428571429]])"
            ],
            "text/latex": "$\\displaystyle \\left[\\begin{matrix}12 & -18 & 3\\\\0 & 1.0 & -4.0\\\\0 & 8.28571428571429 & 11.3571428571429\\end{matrix}\\right]$"
          },
          "metadata": {}
        },
        {
          "output_type": "display_data",
          "data": {
            "text/plain": [
              "<IPython.core.display.Markdown object>"
            ],
            "text/markdown": "**Upper Triangular Form:**"
          },
          "metadata": {}
        },
        {
          "output_type": "display_data",
          "data": {
            "text/plain": [
              "Matrix([\n",
              "[12,              -18,                3],\n",
              "[ 0,              1.0,             -4.0],\n",
              "[ 0, 8.28571428571429, 11.3571428571429]])"
            ],
            "text/latex": "$\\displaystyle \\left[\\begin{matrix}12 & -18 & 3\\\\0 & 1.0 & -4.0\\\\0 & 8.28571428571429 & 11.3571428571429\\end{matrix}\\right]$"
          },
          "metadata": {}
        },
        {
          "output_type": "display_data",
          "data": {
            "text/plain": [
              "<IPython.core.display.Markdown object>"
            ],
            "text/markdown": "**Determinant (product of diagonal elements):** 136.285714285714"
          },
          "metadata": {}
        },
        {
          "output_type": "display_data",
          "data": {
            "text/plain": [
              "<IPython.core.display.Markdown object>"
            ],
            "text/markdown": "**Initial Matrix:**"
          },
          "metadata": {}
        },
        {
          "output_type": "display_data",
          "data": {
            "text/plain": [
              "Matrix([\n",
              "[1, 4, 7],\n",
              "[2, 5, 8],\n",
              "[3, 6, 9]])"
            ],
            "text/latex": "$\\displaystyle \\left[\\begin{matrix}1 & 4 & 7\\\\2 & 5 & 8\\\\3 & 6 & 9\\end{matrix}\\right]$"
          },
          "metadata": {}
        },
        {
          "output_type": "display_data",
          "data": {
            "text/plain": [
              "<IPython.core.display.Markdown object>"
            ],
            "text/markdown": "**Operation:** r2 = r2 + (-2)*r1"
          },
          "metadata": {}
        },
        {
          "output_type": "display_data",
          "data": {
            "text/plain": [
              "Matrix([\n",
              "[1,  4,  7],\n",
              "[0, -3, -6],\n",
              "[3,  6,  9]])"
            ],
            "text/latex": "$\\displaystyle \\left[\\begin{matrix}1 & 4 & 7\\\\0 & -3 & -6\\\\3 & 6 & 9\\end{matrix}\\right]$"
          },
          "metadata": {}
        },
        {
          "output_type": "display_data",
          "data": {
            "text/plain": [
              "<IPython.core.display.Markdown object>"
            ],
            "text/markdown": "**Operation:** r3 = r3 + (-3)*r1"
          },
          "metadata": {}
        },
        {
          "output_type": "display_data",
          "data": {
            "text/plain": [
              "Matrix([\n",
              "[1,  4,   7],\n",
              "[0, -3,  -6],\n",
              "[0, -6, -12]])"
            ],
            "text/latex": "$\\displaystyle \\left[\\begin{matrix}1 & 4 & 7\\\\0 & -3 & -6\\\\0 & -6 & -12\\end{matrix}\\right]$"
          },
          "metadata": {}
        },
        {
          "output_type": "display_data",
          "data": {
            "text/plain": [
              "<IPython.core.display.Markdown object>"
            ],
            "text/markdown": "**Operation:** r3 = r3 + (1)*r2"
          },
          "metadata": {}
        },
        {
          "output_type": "display_data",
          "data": {
            "text/plain": [
              "Matrix([\n",
              "[1,  4,   7],\n",
              "[0, -3,  -6],\n",
              "[0, -9, -18]])"
            ],
            "text/latex": "$\\displaystyle \\left[\\begin{matrix}1 & 4 & 7\\\\0 & -3 & -6\\\\0 & -9 & -18\\end{matrix}\\right]$"
          },
          "metadata": {}
        },
        {
          "output_type": "display_data",
          "data": {
            "text/plain": [
              "<IPython.core.display.Markdown object>"
            ],
            "text/markdown": "**Upper Triangular Form:**"
          },
          "metadata": {}
        },
        {
          "output_type": "display_data",
          "data": {
            "text/plain": [
              "Matrix([\n",
              "[1,  4,   7],\n",
              "[0, -3,  -6],\n",
              "[0, -9, -18]])"
            ],
            "text/latex": "$\\displaystyle \\left[\\begin{matrix}1 & 4 & 7\\\\0 & -3 & -6\\\\0 & -9 & -18\\end{matrix}\\right]$"
          },
          "metadata": {}
        },
        {
          "output_type": "display_data",
          "data": {
            "text/plain": [
              "<IPython.core.display.Markdown object>"
            ],
            "text/markdown": "**Determinant (product of diagonal elements):** 54"
          },
          "metadata": {}
        }
      ]
    }
  ],
  "metadata": {
    "kernelspec": {
      "display_name": "Python 3",
      "language": "python",
      "name": "python3"
    },
    "language_info": {
      "codemirror_mode": {
        "name": "ipython",
        "version": 3
      },
      "file_extension": ".py",
      "mimetype": "text/x-python",
      "name": "python",
      "nbconvert_exporter": "python",
      "pygments_lexer": "ipython3",
      "version": "3.11.9"
    },
    "colab": {
      "provenance": [],
      "toc_visible": true
    }
  },
  "nbformat": 4,
  "nbformat_minor": 0
}