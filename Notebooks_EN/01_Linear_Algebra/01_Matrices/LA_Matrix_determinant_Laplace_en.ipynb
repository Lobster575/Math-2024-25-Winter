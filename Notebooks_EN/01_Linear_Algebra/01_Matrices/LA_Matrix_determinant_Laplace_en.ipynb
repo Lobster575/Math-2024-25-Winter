{
  "cells": [
    {
      "cell_type": "markdown",
      "metadata": {
        "id": "7AURHrKDB8RV"
      },
      "source": [
        "Note that only the first and third terms have non-zero coefficients, so it is not necessary to calculate the determinants of all minors!\n",
        "\n",
        "---\n",
        "\n",
        "## Exercises for Students\n",
        "\n",
        "Calculate the determinants of the following matrices:\n",
        "\n",
        "$$\n",
        "\\mathbf{A} =\n",
        "\\begin{pmatrix}\n",
        "2 & 3 & 1 \\\\\n",
        "1 & 4 & 0 \\\\\n",
        "3 & 2 & 1\n",
        "\\end{pmatrix}\n",
        ",\\qquad\n",
        "\\mathbf{B} =\n",
        "\\begin{pmatrix}\n",
        "2 & 3 & 1 \\\\\n",
        "1 & 4 & 0 \\\\\n",
        "3 & 2 & 0  \\\\\n",
        "\\end{pmatrix}\n",
        ",\\qquad\n",
        "\\mathbf{C} =\n",
        "\\begin{pmatrix}\n",
        "2 & 3 & 1 & 4 \\\\\n",
        "1 & 0 & 0 & 6 \\\\\n",
        "3 & 2 & 1 & 5 \\\\\n",
        "2 & 1 & 4 & 0\n",
        "\\end{pmatrix}\n",
        ",\\qquad\n",
        "\\mathbf{D} =\n",
        "\\begin{pmatrix}\n",
        "2 & 3 & 1 & 4 & 5 \\\\\n",
        "1 & 4 & 0 & 0 & 7 \\\\\n",
        "3 & 0 & 0 & 0 & 0 \\\\\n",
        "2 & 1 & 4 & 3 & 2 \\\\\n",
        "1 & 2 & 3 & 4 & 5\n",
        "\\end{pmatrix}\n",
        "$$"
      ]
    },
    {
      "cell_type": "code",
      "source": [
        "import sympy as sp\n",
        "\n",
        "C = sp.Matrix([[2, 3, 1, 4, 5], [1, 4, 0, 0, 7], [3, 0, 0, 0, 0], [1, 2, 3, 4, 5], [0, 1, 2, 3, 4]])\n",
        "\n",
        "print(\"Shape of matrix C:\", C.shape)\n",
        "\n",
        "M11 = C[1:, [1, 2, 3, 4]]\n",
        "M12 = C[1:, [0, 2, 3, 4]]\n",
        "M13 = C[1:, [0, 1, 3, 4]]\n",
        "M14 = C[1:, [0, 1, 2, 4]]\n",
        "M15 = C[1:, [0, 1, 2, 3]]\n",
        "\n",
        "print(\"Shape of M11:\", M11.shape)\n",
        "print(\"Shape of M12:\", M12.shape)\n",
        "print(\"Shape of M13:\", M13.shape)\n",
        "print(\"Shape of M14:\", M14.shape)\n",
        "print(\"Shape of M15:\", M15.shape)\n",
        "\n",
        "d = (2 * M11.det() - 3 * M12.det() + 1 * M13.det() - 4 * M14.det() + 5 * M15.det())\n",
        "\n",
        "print(\"Determinant calculated using Laplace expansion:\", d)\n",
        "print(\"Verification with sympy det:\", C.det())\n",
        "print(\"Do the results match:\", d == C.det())\n"
      ],
      "metadata": {
        "id": "q4yoWNN-CvSz",
        "outputId": "29dfb441-5c69-4d49-8ac3-335b228ad263",
        "colab": {
          "base_uri": "https://localhost:8080/"
        }
      },
      "execution_count": 1,
      "outputs": [
        {
          "output_type": "stream",
          "name": "stdout",
          "text": [
            "Shape of matrix C: (5, 5)\n",
            "Shape of M11: (4, 4)\n",
            "Shape of M12: (4, 4)\n",
            "Shape of M13: (4, 4)\n",
            "Shape of M14: (4, 4)\n",
            "Shape of M15: (4, 4)\n",
            "Determinant calculated using Laplace expansion: 129\n",
            "Verification with sympy det: 129\n",
            "Do the results match: True\n"
          ]
        }
      ]
    },
    {
      "cell_type": "markdown",
      "source": [
        "# Новый раздел"
      ],
      "metadata": {
        "id": "0ZK8AYPnRHZS"
      }
    }
  ],
  "metadata": {
    "kernelspec": {
      "display_name": "Python 3",
      "language": "python",
      "name": "python3"
    },
    "language_info": {
      "codemirror_mode": {
        "name": "ipython",
        "version": 3
      },
      "file_extension": ".py",
      "mimetype": "text/x-python",
      "name": "python",
      "nbconvert_exporter": "python",
      "pygments_lexer": "ipython3",
      "version": "3.11.9"
    },
    "colab": {
      "provenance": [],
      "toc_visible": true
    }
  },
  "nbformat": 4,
  "nbformat_minor": 0
}