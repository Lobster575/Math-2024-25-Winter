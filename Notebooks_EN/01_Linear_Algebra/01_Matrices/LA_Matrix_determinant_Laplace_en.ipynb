{
  "cells": [
    {
      "cell_type": "markdown",
      "metadata": {
        "id": "7AURHrKDB8RV"
      },
      "source": [
        "Note that only the first and third terms have non-zero coefficients, so it is not necessary to calculate the determinants of all minors!\n",
        "\n",
        "---\n",
        "\n",
        "## Exercises for Students\n",
        "\n",
        "Calculate the determinants of the following matrices:\n",
        "\n",
        "$$\n",
        "\\mathbf{A} =\n",
        "\\begin{pmatrix}\n",
        "2 & 3 & 1 \\\\\n",
        "1 & 4 & 0 \\\\\n",
        "3 & 2 & 1\n",
        "\\end{pmatrix}\n",
        ",\\qquad\n",
        "\\mathbf{B} =\n",
        "\\begin{pmatrix}\n",
        "2 & 3 & 1 \\\\\n",
        "1 & 4 & 0 \\\\\n",
        "3 & 2 & 0  \\\\\n",
        "\\end{pmatrix}\n",
        ",\\qquad\n",
        "\\mathbf{C} =\n",
        "\\begin{pmatrix}\n",
        "2 & 3 & 1 & 4 \\\\\n",
        "1 & 0 & 0 & 6 \\\\\n",
        "3 & 2 & 1 & 5 \\\\\n",
        "2 & 1 & 4 & 0\n",
        "\\end{pmatrix}\n",
        ",\\qquad\n",
        "\\mathbf{D} =\n",
        "\\begin{pmatrix}\n",
        "2 & 3 & 1 & 4 & 5 \\\\\n",
        "1 & 4 & 0 & 0 & 7 \\\\\n",
        "3 & 0 & 0 & 0 & 0 \\\\\n",
        "2 & 1 & 4 & 3 & 2 \\\\\n",
        "1 & 2 & 3 & 4 & 5\n",
        "\\end{pmatrix}\n",
        "$$"
      ]
    },
    {
      "cell_type": "code",
      "source": [
        "import sympy as sp\n",
        "\n",
        "C = sp.Matrix([[2, 3, 1, 4, 5], [1, 4, 0, 0, 7], [3, 0, 0, 0, 0], [1, 2, 3, 4, 5], [0, 1, 2, 3, 4]])\n",
        "\n",
        "print(\"Shape of matrix C:\", C.shape)\n",
        "\n",
        "M11 = C[1:, [1, 2, 3, 4]]\n",
        "M12 = C[1:, [0, 2, 3, 4]]\n",
        "M13 = C[1:, [0, 1, 3, 4]]\n",
        "M14 = C[1:, [0, 1, 2, 4]]\n",
        "M15 = C[1:, [0, 1, 2, 3]]\n",
        "\n",
        "print(\"Shape of M11:\", M11.shape)\n",
        "print(\"Shape of M12:\", M12.shape)\n",
        "print(\"Shape of M13:\", M13.shape)\n",
        "print(\"Shape of M14:\", M14.shape)\n",
        "print(\"Shape of M15:\", M15.shape)\n",
        "\n",
        "d = (2 * M11.det() - 3 * M12.det() + 1 * M13.det() - 4 * M14.det() + 5 * M15.det())\n",
        "\n",
        "print(\"Determinant calculated using Laplace expansion:\", d)\n",
        "print(\"Verification with sympy det:\", C.det())\n",
        "print(\"Do the results match:\", d == C.det())\n"
      ],
      "metadata": {
        "colab": {
          "base_uri": "https://localhost:8080/"
        },
        "id": "q4yoWNN-CvSz",
        "outputId": "29dfb441-5c69-4d49-8ac3-335b228ad263"
      },
      "execution_count": 1,
      "outputs": [
        {
          "output_type": "stream",
          "name": "stdout",
          "text": [
            "Shape of matrix C: (5, 5)\n",
            "Shape of M11: (4, 4)\n",
            "Shape of M12: (4, 4)\n",
            "Shape of M13: (4, 4)\n",
            "Shape of M14: (4, 4)\n",
            "Shape of M15: (4, 4)\n",
            "Determinant calculated using Laplace expansion: 129\n",
            "Verification with sympy det: 129\n",
            "Do the results match: True\n"
          ]
        }
      ]
    },
    {
      "cell_type": "markdown",
      "source": [
        "# 2x3 and 3x3"
      ],
      "metadata": {
        "id": "0ZK8AYPnRHZS"
      }
    },
    {
      "cell_type": "markdown",
      "source": [
        "Determinants of 2x2 and 3x3 matrices"
      ],
      "metadata": {
        "id": "z7TzZxGZaMTr"
      }
    },
    {
      "cell_type": "code",
      "source": [
        "import sympy as sp\n",
        "\n",
        "A = sp.Matrix([[-1, 2], [3, 0]])\n",
        "print(\"Matrix A:\")\n",
        "print(A)\n",
        "\n",
        "a, b, c, d = A[0, 0], A[0, 1], A[1, 0], A[1, 1]\n",
        "determinant_manual = a * d - b * c\n",
        "\n",
        "determinant_sympy = A.det()\n",
        "\n",
        "print(\"manual:\", determinant_manual)\n",
        "print(\"SymPy:\", determinant_sympy)\n"
      ],
      "metadata": {
        "id": "uQegP_TqRYHN",
        "outputId": "3e88021d-040c-4625-a875-81c304b5813f",
        "colab": {
          "base_uri": "https://localhost:8080/"
        }
      },
      "execution_count": 2,
      "outputs": [
        {
          "output_type": "stream",
          "name": "stdout",
          "text": [
            "Matrix A:\n",
            "Matrix([[-1, 2], [3, 0]])\n",
            "manual: -6\n",
            "SymPy: -6\n"
          ]
        }
      ]
    },
    {
      "cell_type": "code",
      "source": [
        "import sympy as sp\n",
        "\n",
        "F = sp.Matrix([[2, -3, 1], [1, 4, -2], [1, 5, 3]])\n",
        "print(\"Matrix F:\")\n",
        "print(F)\n",
        "\n",
        "a, b, c = F[0, 0], F[0, 1], F[0, 2]\n",
        "d, e, f = F[1, 0], F[1, 1], F[1, 2]\n",
        "g, h, i = F[2, 0], F[2, 1], F[2, 2]\n",
        "\n",
        "determinant_manual = a * (e * i - f * h) - b * (d * i - f * g) + c * (d * h - e * g)\n",
        "\n",
        "determinant_sympy = F.det()\n",
        "\n",
        "print(\"Manual:\", determinant_manual)\n",
        "print(\"Sympy:\", determinant_sympy)\n",
        "\n"
      ],
      "metadata": {
        "id": "mr5_qyRQaQQy",
        "outputId": "e60c24b6-445d-446e-cd7f-7e50b0d12ead",
        "colab": {
          "base_uri": "https://localhost:8080/"
        }
      },
      "execution_count": 3,
      "outputs": [
        {
          "output_type": "stream",
          "name": "stdout",
          "text": [
            "Matrix F:\n",
            "Matrix([[2, -3, 1], [1, 4, -2], [1, 5, 3]])\n",
            "Manual: 60\n",
            "Sympy: 60\n"
          ]
        }
      ]
    },
    {
      "cell_type": "markdown",
      "source": [
        "# Matrix Inversion\n"
      ],
      "metadata": {
        "id": "WJxJQKPBbEzp"
      }
    },
    {
      "cell_type": "markdown",
      "source": [
        "inverse matrix"
      ],
      "metadata": {
        "id": "iRXZAim5cxwq"
      }
    },
    {
      "cell_type": "code",
      "source": [
        "import sympy as sp\n",
        "\n",
        "matrix = sp.Matrix([[2, 0, 1], [0, 1, 0], [1, 2, 0]])\n",
        "\n",
        "inverse_matrix = matrix.inv()\n",
        "\n",
        "inverse_matrix_l = inverse_matrix.tolist()\n",
        "\n",
        "print(\"The inverse of the matrix:\")\n",
        "print(inverse_matrix_l)\n"
      ],
      "metadata": {
        "id": "27I90TKFbQpr",
        "outputId": "69263838-a07d-4541-ace6-1c300ea0a344",
        "colab": {
          "base_uri": "https://localhost:8080/"
        }
      },
      "execution_count": 4,
      "outputs": [
        {
          "output_type": "stream",
          "name": "stdout",
          "text": [
            "The inverse of the matrix:\n",
            "[[0, -2, 1], [0, 1, 0], [1, 4, -2]]\n"
          ]
        }
      ]
    },
    {
      "cell_type": "markdown",
      "source": [
        "Using the det() command, determine the rank of the matrix below\n"
      ],
      "metadata": {
        "id": "YWynMKoGc0gh"
      }
    },
    {
      "cell_type": "code",
      "source": [
        "import sympy as sp\n",
        "\n",
        "A = sp.Matrix([[4, -3, 7], [-1, 6, 3], [2, 9, 1]])\n",
        "rank_A = A.rank()\n",
        "print(\"The rank of the matrix A is:\", rank_A)\n",
        "\n"
      ],
      "metadata": {
        "id": "btsmTbu2dMbi",
        "outputId": "e230801f-139a-434b-9137-401b77e1e81f",
        "colab": {
          "base_uri": "https://localhost:8080/"
        }
      },
      "execution_count": 5,
      "outputs": [
        {
          "output_type": "stream",
          "name": "stdout",
          "text": [
            "The rank of the matrix A is: 3\n"
          ]
        }
      ]
    },
    {
      "cell_type": "markdown",
      "source": [
        "#Matrix Inversion using Gauss elimination method\n"
      ],
      "metadata": {
        "id": "Yl2yRpvId1rt"
      }
    },
    {
      "cell_type": "markdown",
      "source": [
        "Find the inverse matrices using the Gauss method:\n",
        "\n"
      ],
      "metadata": {
        "id": "OAZYDNgOd4uh"
      }
    },
    {
      "cell_type": "code",
      "source": [],
      "metadata": {
        "id": "qq-IqPI0d7v2"
      },
      "execution_count": null,
      "outputs": []
    }
  ],
  "metadata": {
    "kernelspec": {
      "display_name": "Python 3",
      "language": "python",
      "name": "python3"
    },
    "language_info": {
      "codemirror_mode": {
        "name": "ipython",
        "version": 3
      },
      "file_extension": ".py",
      "mimetype": "text/x-python",
      "name": "python",
      "nbconvert_exporter": "python",
      "pygments_lexer": "ipython3",
      "version": "3.11.9"
    },
    "colab": {
      "provenance": [],
      "toc_visible": true
    }
  },
  "nbformat": 4,
  "nbformat_minor": 0
}